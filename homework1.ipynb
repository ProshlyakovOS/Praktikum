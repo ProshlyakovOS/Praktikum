{
  "metadata": {
    "language_info": {
      "codemirror_mode": {
        "name": "python",
        "version": 3
      },
      "file_extension": ".py",
      "mimetype": "text/x-python",
      "name": "python",
      "nbconvert_exporter": "python",
      "pygments_lexer": "ipython3",
      "version": "3.8"
    },
    "kernelspec": {
      "name": "python",
      "display_name": "Python (Pyodide)",
      "language": "python"
    }
  },
  "nbformat_minor": 4,
  "nbformat": 4,
  "cells": [
    {
      "cell_type": "code",
      "source": "class Test:\n    @staticmethod\n    def assert_equals(a, b, *args, **kwargs):\n        assert a == b\n        print('Passed')",
      "metadata": {
        "trusted": true
      },
      "execution_count": 13,
      "outputs": []
    },
    {
      "cell_type": "markdown",
      "source": "1: https://edabit.com/challenge/fNQEi9Y2adsERgn98 (3)",
      "metadata": {}
    },
    {
      "cell_type": "code",
      "source": "def dist(a, b, lst):\n\tif a <= 2 and b <= 2:\n\t\treturn ((lst[a][0] - lst[b][0])**2 + (lst[a][1] - lst[b][1])**2)**0.5\n\telse:\n\t\treturn -1\ndef perimeter(lst): \n\treturn round(dist(0,1, lst)+dist(1,2, lst)+dist(2,0, lst), 2)",
      "metadata": {
        "trusted": true
      },
      "execution_count": 15,
      "outputs": []
    },
    {
      "cell_type": "code",
      "source": "Test.assert_equals(perimeter([[0, 0], [1, 0], [0, 1]]), 3.41)\nTest.assert_equals(perimeter([[15, 7], [5, 22], [11, 1]]), 47.08)\nTest.assert_equals(perimeter([[7, 6], [0, 11], [0, -3]]), 34.00)\nTest.assert_equals(perimeter([[-10, -10], [10, 10], [-10, 10]]), 68.28)\nTest.assert_equals(perimeter([[3, 4], [4, 3], [4, 5]]), 4.83)\nTest.assert_equals(perimeter([[-10, -20], [-30, -40], [-50, -60]]), 113.14)\nTest.assert_equals(perimeter([[382, 894], [389, 312], [500, 993]]), 1426.06)",
      "metadata": {
        "trusted": true
      },
      "execution_count": 16,
      "outputs": [
        {
          "name": "stdout",
          "text": "Passed\nPassed\nPassed\nPassed\nPassed\nPassed\nPassed\n",
          "output_type": "stream"
        }
      ]
    },
    {
      "cell_type": "markdown",
      "source": "2: https://edabit.com/challenge/h6QH6ZuXqTXEdaoEG (3)",
      "metadata": {}
    },
    {
      "cell_type": "code",
      "source": "\nimport math \ndef circle(n):\n\treturn round(n*(2)*((100/(2*math.pi)))*math.sin((math.pi)/n), 3)",
      "metadata": {
        "trusted": true
      },
      "execution_count": 19,
      "outputs": []
    },
    {
      "cell_type": "code",
      "source": "Test.assert_equals(circle(3), 82.699)\nTest.assert_equals(circle(4), 90.032)\nTest.assert_equals(circle(8), 97.45)\nTest.assert_equals(circle(90), 99.98)\nTest.assert_equals(circle(600), 100.0)",
      "metadata": {
        "trusted": true
      },
      "execution_count": 17,
      "outputs": [
        {
          "name": "stdout",
          "text": "Passed\nPassed\nPassed\nPassed\nPassed\n",
          "output_type": "stream"
        }
      ]
    },
    {
      "cell_type": "markdown",
      "source": "3: https://edabit.com/challenge/KjCS7occ9hfu5snpb (0)",
      "metadata": {}
    },
    {
      "cell_type": "code",
      "source": "def addition(num):\n\treturn num + 1\n",
      "metadata": {
        "trusted": true
      },
      "execution_count": 24,
      "outputs": []
    },
    {
      "cell_type": "code",
      "source": "Test.assert_equals(addition(2), 3, \"2 plus 1 equals 3.\")\nTest.assert_equals(addition(-9), -8, \"-8 plus 1 equals 9.\")\nTest.assert_equals(addition(0), 1, \"0 plus 1 equals 1.\")\nTest.assert_equals(addition(999), 1000, \"999 plus 1 equals 1000.\")\nTest.assert_equals(addition(73), 74, \"73 plus 1 equals 74.\")",
      "metadata": {
        "trusted": true
      },
      "execution_count": 25,
      "outputs": [
        {
          "name": "stdout",
          "text": "Passed\nPassed\nPassed\nPassed\nPassed\n",
          "output_type": "stream"
        }
      ]
    },
    {
      "cell_type": "markdown",
      "source": "4: https://edabit.com/challenge/f3jX2BwzAuR8DXsy4 (3)",
      "metadata": {}
    },
    {
      "cell_type": "code",
      "source": "\ndef facct(n):\n\ts = 1\n\tfor i in range(1,n+1):\n\t\ts = s * i\n\treturn s\ndef fact_of_fact(n):\n\tss = 1\n\tfor i in range(1,n+1):\n\t\tss = ss * facct(i)\n\treturn ss\n",
      "metadata": {
        "trusted": true
      },
      "execution_count": 26,
      "outputs": []
    },
    {
      "cell_type": "code",
      "source": "Test.assert_equals(fact_of_fact(4), 288),\nTest.assert_equals(fact_of_fact(1), 1),\nTest.assert_equals(fact_of_fact(5), 34560),\nTest.assert_equals(fact_of_fact(2), 2),\nTest.assert_equals(fact_of_fact(6), 24883200),\nTest.assert_equals(fact_of_fact(3), 12),\nTest.assert_equals(fact_of_fact(14), 69113789582492712943486800506462734562847413501952000000000000000),\nTest.assert_equals(fact_of_fact(11), 265790267296391946810949632000000000),\nTest.assert_equals(fact_of_fact(7), 125411328000),\nTest.assert_equals(fact_of_fact(22), 73185187344722251685917129061596359994436879170423331597220791224873045503248922811481956548134913475324429128068839519292427638045690327208977109451014144000000000000000000000000000000000000000000),\nTest.assert_equals(fact_of_fact(13), 792786697595796795607377086400871488552960000000000000),\nTest.assert_equals(fact_of_fact(8), 5056584744960000),\nTest.assert_equals(fact_of_fact(10), 6658606584104736522240000000),\nTest.assert_equals(fact_of_fact(9), 1834933472251084800000 ),\nTest.assert_equals(fact_of_fact(12), 127313963299399416749559771247411200000000000 ),\nTest.assert_equals(fact_of_fact(15), 90378331112371142262979521568630736335023247731599748366336000000000000000000 ),\nTest.assert_equals(fact_of_fact(16), 1890966832292234727042877370627225068196418587883634153182519380410368000000000000000000000 ),\nTest.assert_equals(fact_of_fact(17), 672593129192865130334217631473916658864122332882577979675277211683839238972899328000000000000000000000000 ),\nTest.assert_equals(fact_of_fact(18), 4306192564997715382115598640379294845786123319603755168023536027873932927153136831171640950784000000000000000000000000000 ),\nTest.assert_equals(fact_of_fact(19), 523827226948912906162136183269887782788685420217963126789982275317725639664591791615428617583779071590924288000000000000000000000000000000 ),\nTest.assert_equals(fact_of_fact(20), 1274420312381610764187232669591245728094053576480399681464607478621086015845192873311847341571189522511934190056991170232320000000000000000000000000000000000 ),\nTest.assert_equals(fact_of_fact(21), 65111334482340755583337032079153276047018894694274871209973336023462275586396482041798135409436085152342597056410325664391109570976337100800000000000000000000000000000000000000 ),",
      "metadata": {
        "trusted": true
      },
      "execution_count": 28,
      "outputs": [
        {
          "name": "stdout",
          "text": "Passed\nPassed\nPassed\nPassed\nPassed\nPassed\nPassed\nPassed\nPassed\nPassed\nPassed\nPassed\nPassed\nPassed\nPassed\nPassed\nPassed\nPassed\nPassed\nPassed\nPassed\nPassed\n",
          "output_type": "stream"
        },
        {
          "execution_count": 28,
          "output_type": "execute_result",
          "data": {
            "text/plain": "(None,)"
          },
          "metadata": {}
        }
      ]
    },
    {
      "cell_type": "markdown",
      "source": "5: https://edabit.com/challenge/Y5Ji2HDnQTX7MxeHt (3)",
      "metadata": {}
    },
    {
      "cell_type": "code",
      "source": "def snakefill(n):\n\ti = 0\n\twhile 2**i <= n**2: \n\t\ti = i+1\n\treturn i-1\n",
      "metadata": {
        "trusted": true
      },
      "execution_count": 29,
      "outputs": []
    },
    {
      "cell_type": "code",
      "source": "Test.assert_equals(snakefill(3), 3)\nTest.assert_equals(snakefill(6), 5)\nTest.assert_equals(snakefill(24), 9)\nTest.assert_equals(snakefill(8), 6)\nTest.assert_equals(snakefill(18), 8)\nTest.assert_equals(snakefill(555), 18)\nTest.assert_equals(snakefill(2), 2)\nTest.assert_equals(snakefill(1), 0)\nTest.assert_equals(snakefill(900), 19)",
      "metadata": {
        "trusted": true
      },
      "execution_count": 30,
      "outputs": [
        {
          "name": "stdout",
          "text": "Passed\nPassed\nPassed\nPassed\nPassed\nPassed\nPassed\nPassed\nPassed\n",
          "output_type": "stream"
        }
      ]
    },
    {
      "cell_type": "code",
      "source": "6: https://edabit.com/challenge/BYDZmaM6e4TQrgneb (3)",
      "metadata": {},
      "execution_count": null,
      "outputs": []
    },
    {
      "cell_type": "code",
      "source": "\nimport math as m\ndef fib_fast(num):\n\treturn round((((1+m.sqrt(5))/2)**num - ((1-m.sqrt(5))/2)**num)/(m.sqrt(5)),2)",
      "metadata": {
        "trusted": true
      },
      "execution_count": 31,
      "outputs": []
    },
    {
      "cell_type": "code",
      "source": "Test.assert_equals(fib_fast(5), 5)\nTest.assert_equals(fib_fast(10), 55)\nTest.assert_equals(fib_fast(20), 6765)\nTest.assert_equals(fib_fast(30), 832040)\nTest.assert_equals(fib_fast(40), 102334155)\nTest.assert_equals(fib_fast(50), 12586269025)",
      "metadata": {
        "trusted": true
      },
      "execution_count": 32,
      "outputs": [
        {
          "name": "stdout",
          "text": "Passed\nPassed\nPassed\nPassed\nPassed\nPassed\n",
          "output_type": "stream"
        }
      ]
    },
    {
      "cell_type": "code",
      "source": "",
      "metadata": {},
      "execution_count": null,
      "outputs": []
    }
  ]
}