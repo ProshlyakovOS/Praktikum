{
  "nbformat": 4,
  "nbformat_minor": 0,
  "metadata": {
    "colab": {
      "provenance": []
    },
    "kernelspec": {
      "name": "python3",
      "display_name": "Python 3"
    },
    "language_info": {
      "name": "python"
    }
  },
  "cells": [
    {
      "cell_type": "code",
      "source": [
        "import numpy as np"
      ],
      "metadata": {
        "id": "xNNsN64rO6uR"
      },
      "execution_count": 2,
      "outputs": []
    },
    {
      "cell_type": "markdown",
      "source": [
        "1"
      ],
      "metadata": {
        "id": "IaUt2WNvOsk6"
      }
    },
    {
      "cell_type": "code",
      "execution_count": 71,
      "metadata": {
        "colab": {
          "base_uri": "https://localhost:8080/"
        },
        "id": "IfjLtyjhOrv_",
        "outputId": "7ae1dcc9-25af-4ad7-8d49-542b3030edce"
      },
      "outputs": [
        {
          "output_type": "stream",
          "name": "stdout",
          "text": [
            "[[1 1 1 1 1 1 1 1 1 1]\n",
            " [1 0 0 0 0 0 0 0 0 1]\n",
            " [1 0 0 0 0 0 0 0 0 1]\n",
            " [1 0 0 0 0 0 0 0 0 1]\n",
            " [1 0 0 0 0 0 0 0 0 1]\n",
            " [1 0 0 0 0 0 0 0 0 1]\n",
            " [1 0 0 0 0 0 0 0 0 1]\n",
            " [1 0 0 0 0 0 0 0 0 1]\n",
            " [1 0 0 0 0 0 0 0 0 1]\n",
            " [1 1 1 1 1 1 1 1 1 1]]\n"
          ]
        }
      ],
      "source": [
        "x = np.ones((10, 10), dtype=int)\n",
        "x[1:-1, 1:-1] = 0\n",
        "print(x)"
      ]
    },
    {
      "cell_type": "markdown",
      "source": [
        "2"
      ],
      "metadata": {
        "id": "WSGxwnJ8PGRA"
      }
    },
    {
      "cell_type": "code",
      "source": [
        "i, j = np.indices((8,8))\n",
        "a = (i+j) % 2\n",
        "print(a)"
      ],
      "metadata": {
        "colab": {
          "base_uri": "https://localhost:8080/"
        },
        "id": "g4Hp32RePG88",
        "outputId": "f8d92fcf-e25f-4b0e-81dc-a48f6501b303"
      },
      "execution_count": 72,
      "outputs": [
        {
          "output_type": "stream",
          "name": "stdout",
          "text": [
            "[[0 1 0 1 0 1 0 1]\n",
            " [1 0 1 0 1 0 1 0]\n",
            " [0 1 0 1 0 1 0 1]\n",
            " [1 0 1 0 1 0 1 0]\n",
            " [0 1 0 1 0 1 0 1]\n",
            " [1 0 1 0 1 0 1 0]\n",
            " [0 1 0 1 0 1 0 1]\n",
            " [1 0 1 0 1 0 1 0]]\n"
          ]
        }
      ]
    },
    {
      "cell_type": "markdown",
      "source": [
        "3"
      ],
      "metadata": {
        "id": "NBdUMxgNm0Hq"
      }
    },
    {
      "cell_type": "code",
      "source": [
        "x = np.arange(25, dtype=int).reshape((5,-1))\n",
        "x[x % 6 != 5] = -1\n",
        "x = (x+1)/6\n",
        "print(x)"
      ],
      "metadata": {
        "colab": {
          "base_uri": "https://localhost:8080/"
        },
        "id": "kpDnWJwmlQO0",
        "outputId": "8a884347-6d91-4505-8603-bf46a70889f8"
      },
      "execution_count": 74,
      "outputs": [
        {
          "output_type": "stream",
          "name": "stdout",
          "text": [
            "[[0. 0. 0. 0. 0.]\n",
            " [1. 0. 0. 0. 0.]\n",
            " [0. 2. 0. 0. 0.]\n",
            " [0. 0. 3. 0. 0.]\n",
            " [0. 0. 0. 4. 0.]]\n"
          ]
        }
      ]
    },
    {
      "cell_type": "markdown",
      "source": [
        "4"
      ],
      "metadata": {
        "id": "JE1nNwycsqJg"
      }
    },
    {
      "cell_type": "code",
      "source": [
        "x = np.random.random((5, 5))\n",
        "z = []\n",
        "for i in x:\n",
        "  xmean=np.mean(i)\n",
        "  z = np.append(z, (i-xmean)).reshape((5,-1))\n",
        "print(z)"
      ],
      "metadata": {
        "colab": {
          "base_uri": "https://localhost:8080/"
        },
        "id": "oPctpr9QsrGK",
        "outputId": "a3af8cb8-1fe4-47aa-c794-2c0906928dcb"
      },
      "execution_count": 75,
      "outputs": [
        {
          "output_type": "stream",
          "name": "stdout",
          "text": [
            "[[-0.10700854  0.02714286  0.09909378 -0.08614868  0.06692057]\n",
            " [-0.55031158  0.16822221  0.03201043  0.23299437  0.11708457]\n",
            " [-0.21345609 -0.42123411  0.06815917  0.26753295  0.29899809]\n",
            " [ 0.20904503  0.02820583 -0.56236124  0.37637663 -0.05126624]\n",
            " [-0.23321256  0.34501356 -0.01132564 -0.05366205 -0.04681332]]\n"
          ]
        }
      ]
    },
    {
      "cell_type": "markdown",
      "source": [
        "5"
      ],
      "metadata": {
        "id": "Yp0gupC15-Rl"
      }
    },
    {
      "cell_type": "code",
      "source": [
        "x = np.random.random((10,3))\n",
        "print(x)\n",
        "for i in x:\n",
        "    print(min(i,key=lambda y: abs(y-0.5)))"
      ],
      "metadata": {
        "colab": {
          "base_uri": "https://localhost:8080/"
        },
        "id": "Kih6S_875FY0",
        "outputId": "b7c08ce6-9c2d-4540-deeb-dde0781f1936"
      },
      "execution_count": 57,
      "outputs": [
        {
          "output_type": "stream",
          "name": "stdout",
          "text": [
            "[[0.90201324 0.45442156 0.23120807]\n",
            " [0.66881443 0.14220894 0.55202725]\n",
            " [0.83113579 0.43895186 0.83150486]\n",
            " [0.51107241 0.9175696  0.96964506]\n",
            " [0.47093259 0.4097237  0.10648029]\n",
            " [0.65089503 0.29110978 0.77149419]\n",
            " [0.43806829 0.98699223 0.38050429]\n",
            " [0.42684416 0.16971854 0.67090372]\n",
            " [0.93704091 0.13675204 0.41837461]\n",
            " [0.40883076 0.57536533 0.11027429]]\n",
            "0.45442156133389877\n",
            "0.552027252463098\n",
            "0.43895186201995795\n",
            "0.5110724086659696\n",
            "0.47093258670348326\n",
            "0.6508950299936707\n",
            "0.43806828510670437\n",
            "0.42684416206447084\n",
            "0.4183746081701144\n",
            "0.5753653286905162\n"
          ]
        }
      ]
    },
    {
      "cell_type": "markdown",
      "source": [
        "6"
      ],
      "metadata": {
        "id": "nz1WYnnZJbD4"
      }
    },
    {
      "cell_type": "code",
      "source": [
        "x = np.random.random((6,6))\n",
        "print(x)\n",
        "print((np.sum(x,1)/np.max(x,0)))"
      ],
      "metadata": {
        "colab": {
          "base_uri": "https://localhost:8080/"
        },
        "id": "aMwFfHtQJb9G",
        "outputId": "3020ec41-96fe-4d59-b8d4-976d2ba17e35"
      },
      "execution_count": 66,
      "outputs": [
        {
          "output_type": "stream",
          "name": "stdout",
          "text": [
            "[[0.95350691 0.31221141 0.01528605 0.55140101 0.33563019 0.53028572]\n",
            " [0.91665333 0.70764225 0.0307402  0.18973176 0.54491241 0.7174869 ]\n",
            " [0.91515523 0.66174986 0.43633155 0.10239644 0.20744354 0.11727988]\n",
            " [0.51499688 0.02595227 0.73719638 0.54573269 0.64726713 0.94373376]\n",
            " [0.22683066 0.25552961 0.81297145 0.42090977 0.05418728 0.65739628]\n",
            " [0.21486208 0.64301108 0.14450564 0.90986529 0.99807417 0.77914234]]\n",
            "[2.8298917  4.39087245 3.0017739  3.75317    2.43250965 3.90942951]\n"
          ]
        }
      ]
    },
    {
      "cell_type": "markdown",
      "source": [
        "7"
      ],
      "metadata": {
        "id": "XSM-1vZ7KMo1"
      }
    },
    {
      "cell_type": "code",
      "source": [
        "x = np.array([6, 2, 0, 3, 0, 0, 5, 7, 0])\n",
        "max((x[i] for i in range(1,len(x)) if x[i-1]==0))"
      ],
      "metadata": {
        "colab": {
          "base_uri": "https://localhost:8080/"
        },
        "id": "qPs3-XnZKNtx",
        "outputId": "5625a05b-3b9c-437b-dc95-e707cfff3ad5"
      },
      "execution_count": 70,
      "outputs": [
        {
          "output_type": "execute_result",
          "data": {
            "text/plain": [
              "5"
            ]
          },
          "metadata": {},
          "execution_count": 70
        }
      ]
    },
    {
      "cell_type": "markdown",
      "source": [
        "8"
      ],
      "metadata": {
        "id": "qrOA-okmRiKL"
      }
    },
    {
      "cell_type": "code",
      "source": [
        "x = np.ones(10)\n",
        "i = np.array([0, 1, 2, 3, 5, 5, 5, 8])\n",
        "for k in range (len(x)):\n",
        "    x[k] = x[k] + np.count_nonzero(i == k)\n",
        "print(x)"
      ],
      "metadata": {
        "colab": {
          "base_uri": "https://localhost:8080/"
        },
        "id": "WAJOLm7eRi8v",
        "outputId": "c3f173f9-0689-49aa-f89f-e3673a461d2a"
      },
      "execution_count": 68,
      "outputs": [
        {
          "output_type": "execute_result",
          "data": {
            "text/plain": [
              "array([2., 2., 2., 2., 1., 4., 1., 1., 2., 1.])"
            ]
          },
          "metadata": {},
          "execution_count": 68
        }
      ]
    }
  ]
}