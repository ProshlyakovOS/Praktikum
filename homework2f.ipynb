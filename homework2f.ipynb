{
  "nbformat": 4,
  "nbformat_minor": 0,
  "metadata": {
    "colab": {
      "provenance": []
    },
    "kernelspec": {
      "name": "python3",
      "display_name": "Python 3"
    },
    "language_info": {
      "name": "python"
    }
  },
  "cells": [
    {
      "cell_type": "code",
      "source": [
        "import numpy as np"
      ],
      "metadata": {
        "id": "xNNsN64rO6uR"
      },
      "execution_count": null,
      "outputs": []
    },
    {
      "cell_type": "markdown",
      "source": [
        "1"
      ],
      "metadata": {
        "id": "IaUt2WNvOsk6"
      }
    },
    {
      "cell_type": "code",
      "execution_count": null,
      "metadata": {
        "colab": {
          "base_uri": "https://localhost:8080/"
        },
        "id": "IfjLtyjhOrv_",
        "outputId": "7ae1dcc9-25af-4ad7-8d49-542b3030edce"
      },
      "outputs": [
        {
          "output_type": "stream",
          "name": "stdout",
          "text": [
            "[[1 1 1 1 1 1 1 1 1 1]\n",
            " [1 0 0 0 0 0 0 0 0 1]\n",
            " [1 0 0 0 0 0 0 0 0 1]\n",
            " [1 0 0 0 0 0 0 0 0 1]\n",
            " [1 0 0 0 0 0 0 0 0 1]\n",
            " [1 0 0 0 0 0 0 0 0 1]\n",
            " [1 0 0 0 0 0 0 0 0 1]\n",
            " [1 0 0 0 0 0 0 0 0 1]\n",
            " [1 0 0 0 0 0 0 0 0 1]\n",
            " [1 1 1 1 1 1 1 1 1 1]]\n"
          ]
        }
      ],
      "source": [
        "x = np.ones((10, 10), dtype=int)\n",
        "x[1:-1, 1:-1] = 0\n",
        "print(x)"
      ]
    },
    {
      "cell_type": "markdown",
      "source": [
        "2"
      ],
      "metadata": {
        "id": "WSGxwnJ8PGRA"
      }
    },
    {
      "cell_type": "code",
      "source": [
        "i, j = np.indices((8,8))\n",
        "a = (i+j) % 2\n",
        "print(a)"
      ],
      "metadata": {
        "colab": {
          "base_uri": "https://localhost:8080/"
        },
        "id": "g4Hp32RePG88",
        "outputId": "f8d92fcf-e25f-4b0e-81dc-a48f6501b303"
      },
      "execution_count": null,
      "outputs": [
        {
          "output_type": "stream",
          "name": "stdout",
          "text": [
            "[[0 1 0 1 0 1 0 1]\n",
            " [1 0 1 0 1 0 1 0]\n",
            " [0 1 0 1 0 1 0 1]\n",
            " [1 0 1 0 1 0 1 0]\n",
            " [0 1 0 1 0 1 0 1]\n",
            " [1 0 1 0 1 0 1 0]\n",
            " [0 1 0 1 0 1 0 1]\n",
            " [1 0 1 0 1 0 1 0]]\n"
          ]
        }
      ]
    },
    {
      "cell_type": "markdown",
      "source": [
        "3"
      ],
      "metadata": {
        "id": "NBdUMxgNm0Hq"
      }
    },
    {
      "cell_type": "code",
      "source": [
        "x = np.arange(25, dtype=int).reshape((5,-1))\n",
        "x[x % 6 != 5] = -1\n",
        "x = (x+1)/6\n",
        "print(x)"
      ],
      "metadata": {
        "colab": {
          "base_uri": "https://localhost:8080/"
        },
        "id": "kpDnWJwmlQO0",
        "outputId": "8a884347-6d91-4505-8603-bf46a70889f8"
      },
      "execution_count": null,
      "outputs": [
        {
          "output_type": "stream",
          "name": "stdout",
          "text": [
            "[[0. 0. 0. 0. 0.]\n",
            " [1. 0. 0. 0. 0.]\n",
            " [0. 2. 0. 0. 0.]\n",
            " [0. 0. 3. 0. 0.]\n",
            " [0. 0. 0. 4. 0.]]\n"
          ]
        }
      ]
    },
    {
      "cell_type": "markdown",
      "source": [
        "4"
      ],
      "metadata": {
        "id": "JE1nNwycsqJg"
      }
    },
    {
      "cell_type": "code",
      "source": [
        "x = np.random.random((5, 5))\n",
        "m = np.mean(x, axis=1).reshape(-1,1)\n",
        "x -= m\n",
        "print(x)"
      ],
      "metadata": {
        "colab": {
          "base_uri": "https://localhost:8080/"
        },
        "id": "oPctpr9QsrGK",
        "outputId": "020dba0d-9ce7-47ee-e64a-084185219f52"
      },
      "execution_count": null,
      "outputs": [
        {
          "output_type": "stream",
          "name": "stdout",
          "text": [
            "[[ 0.42223597 -0.17854749 -0.38051212 -0.13559141  0.27241505]\n",
            " [-0.00693808 -0.36775115 -0.14751119  0.13952945  0.38267098]\n",
            " [-0.54110112  0.24006698 -0.30760159  0.26358194  0.34505379]\n",
            " [ 0.23569274  0.00507301 -0.46245585  0.19497692  0.02671318]\n",
            " [-0.30342878 -0.27718894  0.21334019  0.02247518  0.34480234]]\n"
          ]
        }
      ]
    },
    {
      "cell_type": "markdown",
      "source": [
        "5"
      ],
      "metadata": {
        "id": "Yp0gupC15-Rl"
      }
    },
    {
      "cell_type": "code",
      "source": [
        "x = np.random.random((10,3))\n",
        "print(x)\n",
        "cl = x[np.arange(len(x)), np.argmin(np.abs(x - 0.5), axis=1)].reshape(-1,1)\n",
        "print(cl)"
      ],
      "metadata": {
        "colab": {
          "base_uri": "https://localhost:8080/"
        },
        "id": "Kih6S_875FY0",
        "outputId": "4b53eb46-1be4-41cb-e790-c95ab611ee2f"
      },
      "execution_count": null,
      "outputs": [
        {
          "output_type": "stream",
          "name": "stdout",
          "text": [
            "[[0.38736178 0.03735    0.56222835]\n",
            " [0.73751453 0.49744621 0.05528667]\n",
            " [0.51985012 0.22972578 0.43551751]\n",
            " [0.33835994 0.35465252 0.64368593]\n",
            " [0.44188483 0.34497639 0.61713411]\n",
            " [0.5482306  0.46018663 0.54648032]\n",
            " [0.55968001 0.3085117  0.23770733]\n",
            " [0.30748126 0.82585343 0.08348361]\n",
            " [0.73347053 0.92836295 0.82583663]\n",
            " [0.23151933 0.79556893 0.47283539]]\n",
            "[[0.56222835]\n",
            " [0.49744621]\n",
            " [0.51985012]\n",
            " [0.64368593]\n",
            " [0.44188483]\n",
            " [0.46018663]\n",
            " [0.55968001]\n",
            " [0.30748126]\n",
            " [0.73347053]\n",
            " [0.47283539]]\n"
          ]
        }
      ]
    },
    {
      "cell_type": "markdown",
      "source": [
        "6"
      ],
      "metadata": {
        "id": "nz1WYnnZJbD4"
      }
    },
    {
      "cell_type": "code",
      "source": [
        "x = np.random.random((6,6))\n",
        "print(x)\n",
        "print((np.sum(x,1)/np.max(x,0)))"
      ],
      "metadata": {
        "colab": {
          "base_uri": "https://localhost:8080/"
        },
        "id": "aMwFfHtQJb9G",
        "outputId": "3020ec41-96fe-4d59-b8d4-976d2ba17e35"
      },
      "execution_count": null,
      "outputs": [
        {
          "output_type": "stream",
          "name": "stdout",
          "text": [
            "[[0.95350691 0.31221141 0.01528605 0.55140101 0.33563019 0.53028572]\n",
            " [0.91665333 0.70764225 0.0307402  0.18973176 0.54491241 0.7174869 ]\n",
            " [0.91515523 0.66174986 0.43633155 0.10239644 0.20744354 0.11727988]\n",
            " [0.51499688 0.02595227 0.73719638 0.54573269 0.64726713 0.94373376]\n",
            " [0.22683066 0.25552961 0.81297145 0.42090977 0.05418728 0.65739628]\n",
            " [0.21486208 0.64301108 0.14450564 0.90986529 0.99807417 0.77914234]]\n",
            "[2.8298917  4.39087245 3.0017739  3.75317    2.43250965 3.90942951]\n"
          ]
        }
      ]
    },
    {
      "cell_type": "markdown",
      "source": [
        "7"
      ],
      "metadata": {
        "id": "XSM-1vZ7KMo1"
      }
    },
    {
      "cell_type": "code",
      "source": [
        "x = np.array([6, 2, 0, 3, 0, 0, 5, 7, 0])\n",
        "ind = np.where(x == 0)[0]+1\n",
        "np.max(x[ind[ind !=len(x)]])"
      ],
      "metadata": {
        "colab": {
          "base_uri": "https://localhost:8080/"
        },
        "id": "qPs3-XnZKNtx",
        "outputId": "11461ffc-b018-4288-8b01-53bb9f1256da"
      },
      "execution_count": null,
      "outputs": [
        {
          "output_type": "execute_result",
          "data": {
            "text/plain": [
              "5"
            ]
          },
          "metadata": {},
          "execution_count": 22
        }
      ]
    },
    {
      "cell_type": "markdown",
      "source": [
        "8"
      ],
      "metadata": {
        "id": "qrOA-okmRiKL"
      }
    },
    {
      "cell_type": "code",
      "source": [
        "x = np.ones(10)\n",
        "i = np.array([0, 1, 2, 3, 5, 5, 5, 8])\n",
        "ui, uc = np.unique(i, return_counts = True)\n",
        "x[ui] += uc\n",
        "print(x)"
      ],
      "metadata": {
        "colab": {
          "base_uri": "https://localhost:8080/"
        },
        "id": "WAJOLm7eRi8v",
        "outputId": "ceb22d55-53c0-43f1-ed49-07c20525f90d"
      },
      "execution_count": 30,
      "outputs": [
        {
          "output_type": "stream",
          "name": "stdout",
          "text": [
            "[0 1 2 3 5 8]\n",
            "[1 1 1 1 3 1]\n",
            "[2. 2. 2. 2. 1. 4. 1. 1. 2. 1.]\n"
          ]
        }
      ]
    }
  ]
}